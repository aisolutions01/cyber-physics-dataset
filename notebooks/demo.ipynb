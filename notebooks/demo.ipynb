{
  "cells": [
    {
      "cell_type": "markdown",
      "metadata": {},
      "source": [
        "# Demo: On-the-Fly Data Generation\n",
        "\n",
        "This notebook demonstrates how to generate synthetic incidents on-the-fly,\n",
        "train a simple model, and evaluate it. Inspired by physics-informed PDEs analogy."
      ]
    },
    {
      "cell_type": "code",
      "execution_count": null,
      "metadata": {},
      "outputs": [],
      "source": [
        "from data_generator import IncidentGenerator\n",
        "from model_example import train_model\n",
        "from evaluation import evaluate_model\n",
        "\n",
        "# Generate a few demo incidents\n",
        "gen = IncidentGenerator()\n",
        "for i in range(5):\n",
        "    print(gen.generate_incident())"
      ]
    },
    {
      "cell_type": "code",
      "execution_count": null,
      "metadata": {},
      "outputs": [],
      "source": [
        "# Train a simple model on 100 generated samples\n",
        "model, df = train_model(100)\n",
        "df.head()"
      ]
    },
    {
      "cell_type": "code",
      "execution_count": null,
      "metadata": {},
      "outputs": [],
      "source": [
        "# Evaluate the model on new on-the-fly generated data\n",
        "evaluate_model(model, 30)"
      ]
    }
  ],
  "metadata": {
    "kernelspec": {
      "display_name": "Python 3",
      "language": "python",
      "name": "python3"
    },
    "language_info": {
      "name": "python",
      "version": "3.x"
    }
  },
  "nbformat": 4,
  "nbformat_minor": 2
}